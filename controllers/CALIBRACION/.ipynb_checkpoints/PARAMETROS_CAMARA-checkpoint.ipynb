{
 "cells": [
  {
   "cell_type": "code",
   "execution_count": 1,
   "metadata": {},
   "outputs": [
    {
     "name": "stdout",
     "output_type": "stream",
     "text": [
      "[[2.37733620e+03 0.00000000e+00 9.65267914e+02]\n",
      " [0.00000000e+00 2.37883873e+03 9.23116527e+02]\n",
      " [0.00000000e+00 0.00000000e+00 1.00000000e+00]]\n",
      "[[ 0.23693197 -1.21116416 -0.0037013  -0.00656546  2.32757911]]\n",
      "camera_matrix :  [[2377.3362048774015, 0.0, 965.2679138156849], [0.0, 2378.8387337988975, 923.1165270913481], [0.0, 0.0, 1.0]]\n",
      "dist_matrix :  [[0.23693197142740902, -1.211164161651424, -0.0037013047287064787, -0.006565462220770494, 2.327579113021727]]\n"
     ]
    }
   ],
   "source": [
    "\n",
    "import numpy as np\n",
    "import cv2\n",
    "import glob\n",
    "\n",
    "\n",
    "WAIT_TIME = 10\n",
    "# termination criteria\n",
    "criteria = (cv2.TERM_CRITERIA_EPS + cv2.TERM_CRITERIA_MAX_ITER, 140, 0.001)\n",
    "\n",
    "# prepare object points, like (0,0,0), (1,0,0), (2,0,0) ....,(6,5,0)\n",
    "objp = np.zeros((7*9,3), np.float32)\n",
    "objp[:,:2] = np.mgrid[0:9,0:6].T.reshape(-1,2)\n",
    "\n",
    "# Arrays to store object points and image points from all the images.\n",
    "objpoints = [] # 3d point in real world space\n",
    "imgpoints = [] # 2d points in image plane.\n",
    "\n",
    "images = glob.glob('*.png')\n",
    "\n",
    "for fname in images:\n",
    "    img = cv2.imread(fname)\n",
    "    #img=cv2.flip(img,0)\n",
    "    gray = cv2.cvtColor(img,cv2.COLOR_BGR2GRAY)\n",
    "\n",
    "    # Find the chess board corners\n",
    "    ret, corners = cv2.findChessboardCorners(gray, (9,6),None)\n",
    "\n",
    "    # If found, add object points, image points (after refining them)\n",
    "    if ret == True:\n",
    "        objpoints.append(objp)\n",
    "\n",
    "        corners2 = cv2.cornerSubPix(gray,corners,(11,11),(-1,-1),criteria)\n",
    "        imgpoints.append(corners2)\n",
    "\n",
    "        # Draw and display the corners\n",
    "        img = cv2.drawChessboardCorners(img, (9,6), corners2,ret)\n",
    "        cv2.imshow('img',img)\n",
    "        cv2.waitKey(0)\n",
    "\n",
    "cv2.destroyAllWindows()\n",
    "ret, mtx, dist, rvecs, tvecs = cv2.calibrateCamera(objpoints, imgpoints, gray.shape[::-1],None,None)\n",
    "\n",
    "# ---------- Saving the calibration -----------------\n",
    "cv_file = cv2.FileStorage(\"fer_camara_3.yaml\", cv2.FILE_STORAGE_WRITE)\n",
    "cv_file.write(\"camera_matrix\", mtx)\n",
    "cv_file.write(\"dist_coeff\", dist)\n",
    "# note you *release* you don't close() a FileStorage object\n",
    "cv_file.release()\n",
    "\n",
    "print(mtx)\n",
    "print(dist)\n",
    "\n",
    "\n",
    "# File storage in OpenCV\n",
    "cv_file = cv2.FileStorage(\"fer_camara_3.yaml\", cv2.FILE_STORAGE_READ)\n",
    "\n",
    "# Note : we also have to specify the type\n",
    "# to retrieve otherwise we only get a 'None'\n",
    "# FileNode object back instead of a matrix\n",
    "camera_matrix = cv_file.getNode(\"camera_matrix\").mat()\n",
    "dist_matrix = cv_file.getNode(\"dist_coeff\").mat()\n",
    "\n",
    "print(\"camera_matrix : \", camera_matrix.tolist())\n",
    "print(\"dist_matrix : \", dist_matrix.tolist())\n",
    "\n",
    "cv_file.release()\n",
    "\n",
    "\n"
   ]
  },
  {
   "cell_type": "code",
   "execution_count": 2,
   "metadata": {},
   "outputs": [
    {
     "data": {
      "text/plain": [
       "[array([[ 0.04029444],\n",
       "        [-0.04035828],\n",
       "        [ 1.58266125]]),\n",
       " array([[ 0.04689956],\n",
       "        [-0.02854415],\n",
       "        [ 0.885272  ]]),\n",
       " array([[ 0.08530463],\n",
       "        [-0.08552794],\n",
       "        [ 2.53549406]]),\n",
       " array([[ 0.53439818],\n",
       "        [-0.43568273],\n",
       "        [ 1.49101949]]),\n",
       " array([[-0.40366529],\n",
       "        [ 0.37452946],\n",
       "        [ 1.64013347]]),\n",
       " array([[ 0.10302847],\n",
       "        [-0.0061854 ],\n",
       "        [ 1.61039137]]),\n",
       " array([[-0.04013506],\n",
       "        [ 0.07133242],\n",
       "        [-3.10138412]]),\n",
       " array([[ 0.51309734],\n",
       "        [-0.44609755],\n",
       "        [ 1.5226455 ]]),\n",
       " array([[ 0.1364264 ],\n",
       "        [-0.07479315],\n",
       "        [ 2.12469373]]),\n",
       " array([[-0.29549662],\n",
       "        [ 0.61008586],\n",
       "        [ 1.57497635]])]"
      ]
     },
     "execution_count": 2,
     "metadata": {},
     "output_type": "execute_result"
    }
   ],
   "source": [
    "rvecs"
   ]
  },
  {
   "cell_type": "code",
   "execution_count": null,
   "metadata": {},
   "outputs": [],
   "source": []
  }
 ],
 "metadata": {
  "kernelspec": {
   "display_name": "Python 3",
   "language": "python",
   "name": "python3"
  },
  "language_info": {
   "codemirror_mode": {
    "name": "ipython",
    "version": 3
   },
   "file_extension": ".py",
   "mimetype": "text/x-python",
   "name": "python",
   "nbconvert_exporter": "python",
   "pygments_lexer": "ipython3",
   "version": "3.7.7"
  }
 },
 "nbformat": 4,
 "nbformat_minor": 2
}
